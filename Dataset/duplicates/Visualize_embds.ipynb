{
 "cells": [
  {
   "cell_type": "code",
   "execution_count": 1,
   "metadata": {},
   "outputs": [
    {
     "name": "stderr",
     "output_type": "stream",
     "text": [
      "/home/ossamaak0/miniconda3/envs/main/lib/python3.11/site-packages/tqdm/auto.py:21: TqdmWarning: IProgress not found. Please update jupyter and ipywidgets. See https://ipywidgets.readthedocs.io/en/stable/user_install.html\n",
      "  from .autonotebook import tqdm as notebook_tqdm\n"
     ]
    }
   ],
   "source": [
    "import chromadb\n",
    "from datasets import load_dataset\n",
    "from tqdm import tqdm\n",
    "import sys\n",
    "import os\n",
    "\n",
    "tqdm.pandas()\n",
    "sys.path.append(\"../..\")\n",
    "\n",
    "import config\n",
    "from config import RANDOM_SEED"
   ]
  },
  {
   "cell_type": "markdown",
   "metadata": {},
   "source": [
    "# Load vectorDB and dataset"
   ]
  },
  {
   "cell_type": "code",
   "execution_count": 2,
   "metadata": {},
   "outputs": [],
   "source": [
    "chroma_client = chromadb.PersistentClient(\"../db\")\n",
    "collection = chroma_client.get_or_create_collection(\n",
    "    name=\"goemotions_train\", metadata={\"hnsw:space\": \"cosine\"}\n",
    ")"
   ]
  },
  {
   "cell_type": "code",
   "execution_count": 3,
   "metadata": {},
   "outputs": [],
   "source": [
    "dataset = load_dataset(\n",
    "    \"go_emotions\", \"simplified\", cache_dir=\"/home/ossamaak0/.cache/huggingface/datasets\"\n",
    ")\n",
    "dataset.set_format(type=\"pandas\")\n",
    "df_train = dataset[\"train\"][:]\n",
    "\n",
    "# int2label = lambda x: dataset[\"train\"].features[\"labels\"].feature.int2str(x)\n",
    "# df_train[\"labels_text\"] = df_train[\"labels\"].progress_apply(int2label)"
   ]
  },
  {
   "cell_type": "code",
   "execution_count": 4,
   "metadata": {},
   "outputs": [],
   "source": [
    "def get_embeddings(df=df_train, idx=0):\n",
    "    return collection.get(ids=[str(idx)], include=[\"embeddings\"])[\"embeddings\"]"
   ]
  },
  {
   "cell_type": "code",
   "execution_count": 104,
   "metadata": {},
   "outputs": [],
   "source": [
    "def get_similars(df=df_train, idx=0, n_results=5, verbose=False):\n",
    "    # get example\n",
    "    sample = df.iloc[idx]\n",
    "    text, labels = sample[\"text\"], sample[\"labels_text\"]\n",
    "    # get embeddings\n",
    "    embeddings = get_embeddings(df, idx)\n",
    "    results = collection.query(embeddings, n_results=5)\n",
    "    # get ids and distances\n",
    "    ids = [int(_id) for _id in results[\"ids\"][0]]\n",
    "    distances = [float(d) for d in results[\"distances\"][0]]\n",
    "    matches = []\n",
    "    for idx in ids:\n",
    "        sample = df_train.iloc[idx]\n",
    "        text = sample[\"text\"]\n",
    "        labels = sample[\"labels_text\"]\n",
    "        distance = distances[ids.index(idx)]\n",
    "        matches.append(\n",
    "            {\n",
    "                \"idx\": idx,\n",
    "                \"text\": text,\n",
    "                \"labels\": labels,\n",
    "                \"distance\": distance,\n",
    "            }\n",
    "        )\n",
    "        if verbose:\n",
    "            print(f\"text: {text}\\nlabels: {labels}\\n distance: {distance:0.2f}\\n\")\n",
    "    return matches"
   ]
  },
  {
   "cell_type": "code",
   "execution_count": 105,
   "metadata": {},
   "outputs": [
    {
     "name": "stderr",
     "output_type": "stream",
     "text": [
      "100%|██████████| 1000/1000 [00:09<00:00, 100.20it/s]\n"
     ]
    }
   ],
   "source": [
    "similars = []\n",
    "for i in tqdm(range(1000)):\n",
    "    results = get_similars(idx=i, n_results=5)\n",
    "    distances = [r[\"distance\"] for r in results]\n",
    "    # if any distance (other than first one) is less than 0.1, add whole list to similars\n",
    "    if any(d < 0.1 for d in distances[1:]):\n",
    "        similars.append(results)"
   ]
  },
  {
   "cell_type": "code",
   "execution_count": 106,
   "metadata": {},
   "outputs": [
    {
     "name": "stdout",
     "output_type": "stream",
     "text": [
      "54\n"
     ]
    }
   ],
   "source": [
    "print(len(similars))"
   ]
  },
  {
   "cell_type": "code",
   "execution_count": 107,
   "metadata": {},
   "outputs": [
    {
     "name": "stdout",
     "output_type": "stream",
     "text": [
      "Query:\n",
      "idx: 35\n",
      "text: Happy to be able to help.\n",
      "labels: ['joy']\n",
      "distance: 0.00\n",
      "\n",
      "********************************************************************************\n",
      "matches:\n",
      "\n",
      "idx: 25963\n",
      "text: Happy to help\n",
      "labels: ['joy']\n",
      "distance: 0.07\n",
      "\n",
      "idx: 8331\n",
      "text: happy to help\n",
      "labels: ['joy']\n",
      "distance: 0.07\n",
      "\n",
      "idx: 43315\n",
      "text: I’m happy I can help.\n",
      "labels: ['approval', 'joy']\n",
      "distance: 0.07\n",
      "\n",
      "idx: 24441\n",
      "text: Happy to help!\n",
      "labels: ['joy']\n",
      "distance: 0.10\n",
      "\n"
     ]
    }
   ],
   "source": [
    "similar = similars[1]\n",
    "s = similar[0]\n",
    "print(\"Query:\")\n",
    "print(\n",
    "    f\"idx: {s['idx']}\\ntext: {s['text']}\\nlabels: {s['labels']}\\ndistance: {s['distance']:0.2f}\\n\"\n",
    ")\n",
    "print(\"*\" * 80 + \"\\n\" + \"matches:\\n\")\n",
    "for s in similar[1:]:\n",
    "    print(\n",
    "        f\"idx: {s['idx']}\\ntext: {s['text']}\\nlabels: {s['labels']}\\ndistance: {s['distance']:0.2f}\\n\"\n",
    "    )"
   ]
  },
  {
   "cell_type": "markdown",
   "metadata": {},
   "source": [
    "# Visualization"
   ]
  },
  {
   "cell_type": "code",
   "execution_count": 6,
   "metadata": {},
   "outputs": [],
   "source": [
    "import numpy as np\n",
    "from sklearn.manifold import TSNE\n",
    "import plotly.graph_objs as go"
   ]
  },
  {
   "cell_type": "code",
   "execution_count": 7,
   "metadata": {},
   "outputs": [
    {
     "name": "stderr",
     "output_type": "stream",
     "text": [
      "100%|██████████| 5000/5000 [00:28<00:00, 173.28it/s]\n"
     ]
    }
   ],
   "source": [
    "# get embeddings of 5000 samples\n",
    "embeddings = np.array([get_embeddings(df_train, idx) for idx in tqdm(range(5000))])"
   ]
  },
  {
   "cell_type": "code",
   "execution_count": 9,
   "metadata": {},
   "outputs": [],
   "source": [
    "embeddings = embeddings.squeeze()"
   ]
  },
  {
   "cell_type": "code",
   "execution_count": 11,
   "metadata": {},
   "outputs": [
    {
     "name": "stdout",
     "output_type": "stream",
     "text": [
      "[t-SNE] Computing 91 nearest neighbors...\n",
      "[t-SNE] Indexed 5000 samples in 0.003s...\n",
      "[t-SNE] Computed neighbors for 5000 samples in 0.503s...\n",
      "[t-SNE] Computed conditional probabilities for sample 1000 / 5000\n",
      "[t-SNE] Computed conditional probabilities for sample 2000 / 5000\n",
      "[t-SNE] Computed conditional probabilities for sample 3000 / 5000\n",
      "[t-SNE] Computed conditional probabilities for sample 4000 / 5000\n",
      "[t-SNE] Computed conditional probabilities for sample 5000 / 5000\n",
      "[t-SNE] Mean sigma: 3.871073\n",
      "[t-SNE] KL divergence after 50 iterations with early exaggeration: 86.746162\n",
      "[t-SNE] KL divergence after 1000 iterations: 2.724712\n"
     ]
    }
   ],
   "source": [
    "tsne = TSNE(n_components=3, n_jobs=2, verbose=True)\n",
    "embeddings_3d = tsne.fit_transform(embeddings)"
   ]
  }
 ],
 "metadata": {
  "kernelspec": {
   "display_name": "main",
   "language": "python",
   "name": "python3"
  },
  "language_info": {
   "codemirror_mode": {
    "name": "ipython",
    "version": 3
   },
   "file_extension": ".py",
   "mimetype": "text/x-python",
   "name": "python",
   "nbconvert_exporter": "python",
   "pygments_lexer": "ipython3",
   "version": "3.11.9"
  }
 },
 "nbformat": 4,
 "nbformat_minor": 2
}
