{
 "cells": [
  {
   "cell_type": "code",
   "execution_count": 1,
   "metadata": {
    "metadata": {}
   },
   "outputs": [],
   "source": [
    "from tqdm import tqdm\n",
    "\n",
    "import os\n",
    "from dotenv import load_dotenv\n",
    "\n",
    "load_dotenv()\n",
    "tqdm.pandas()\n",
    "import pandas as pd\n",
    "import ast\n",
    "import re\n",
    "import torch\n",
    "import torch.nn.functional as F\n",
    "from dataset_utils import *"
   ]
  },
  {
   "cell_type": "markdown",
   "metadata": {},
   "source": [
    "# Loading Dataset"
   ]
  },
  {
   "cell_type": "code",
   "execution_count": 2,
   "metadata": {
    "metadata": {}
   },
   "outputs": [
    {
     "name": "stderr",
     "output_type": "stream",
     "text": [
      "/home/ossamaak0/miniconda3/envs/main/lib/python3.11/site-packages/tqdm/auto.py:21: TqdmWarning: IProgress not found. Please update jupyter and ipywidgets. See https://ipywidgets.readthedocs.io/en/stable/user_install.html\n",
      "  from .autonotebook import tqdm as notebook_tqdm\n",
      "100%|██████████| 211225/211225 [00:14<00:00, 14992.81it/s]\n"
     ]
    }
   ],
   "source": [
    "from datasets import load_dataset\n",
    "\n",
    "dataset = load_dataset(\"go_emotions\", \"raw\")\n",
    "dataset.set_format(type=\"pandas\")\n",
    "df_train = dataset[\"train\"][:]\n",
    "\n",
    "emotions = list(df_train.columns)[9:]\n",
    "columns = [\"text\"] + emotions\n",
    "# select only texts and emotions\n",
    "df_train = df_train[columns]\n",
    "\n",
    "\n",
    "# create new column with list of emotions (in strings)\n",
    "df_train[\"ds_emotions\"] = df_train[emotions].progress_apply(\n",
    "    lambda x: x.index[x == 1].tolist(), axis=1\n",
    ")"
   ]
  },
  {
   "cell_type": "code",
   "execution_count": 3,
   "metadata": {
    "metadata": {}
   },
   "outputs": [],
   "source": [
    "# get samples with neutral emotion (20 samples)\n",
    "import sys\n",
    "\n",
    "sys.path.append(\"..\")\n",
    "from config import RANDOM_SEED\n",
    "\n",
    "# samples = df_train[df_train[\"ds_emotions\"].apply(lambda x: \"neutral\" in x)]\n",
    "samples = df_train.sample(100, random_state=RANDOM_SEED)\n",
    "# drop emotions columns\n",
    "samples = samples.drop(emotions, axis=1)"
   ]
  },
  {
   "cell_type": "markdown",
   "metadata": {},
   "source": [
    "# Adding Ground Truth"
   ]
  },
  {
   "cell_type": "code",
   "execution_count": 7,
   "metadata": {
    "metadata": {}
   },
   "outputs": [],
   "source": [
    "samples[\"ground_truth\"] = [\n",
    "    [\"optimism\", \"excitement\"],\n",
    "    [\"embarrassment\"],\n",
    "    [\"approval\", \"admiration\"],\n",
    "    [\"disapproval\", \"annoyance\"],\n",
    "    [\"annoyance\", \"disgust\"],\n",
    "    [\"remorse\", \"sadness\"],\n",
    "    [\"disapproval\"],\n",
    "    [\"caring\"],\n",
    "    [\"disapproval\", \"annoyance\"],\n",
    "    [\"disapproval\"],\n",
    "    [\"amusment\", \"confusion\"],\n",
    "    [\"neutral\"],\n",
    "    [\"caring\"],\n",
    "    [\"approval\"],\n",
    "    [\"neutral\"],\n",
    "    [\"excitement\"],\n",
    "    [\"realization\", \"disappintment\"],\n",
    "    [\"disapproval\"],\n",
    "    [\"sadness\"],\n",
    "    [\"neutral\"],\n",
    "]\n",
    "gt = samples[[\"text\", \"ground_truth\"]]\n",
    "# gt.to_csv(\"ground_truth.csv\", index=True)\n",
    "# samples.to_csv(\"samples.csv\", index=False)"
   ]
  },
  {
   "cell_type": "markdown",
   "metadata": {
    "metadata": {}
   },
   "source": [
    "# LLM Labeling"
   ]
  },
  {
   "cell_type": "code",
   "execution_count": 8,
   "metadata": {
    "metadata": {}
   },
   "outputs": [],
   "source": [
    "from langchain_core.messages import HumanMessage, SystemMessage\n",
    "from langchain_core.prompts import ChatPromptTemplate\n",
    "from langchain_openai import ChatOpenAI\n",
    "from langchain_core.output_parsers import StrOutputParser\n",
    "\n",
    "SYSTEM_MESSAGE = \"You're an AI expert trained to analyze and categorize emotions present in text. Your goal is to analyze each piece of text according to instructions\"\n",
    "\n",
    "PROMPT_TEMPLATE = f\"\"\"\n",
    "Given: {{comment}}\n",
    "Emotion list: {emotions}\n",
    "Perform an emotional analysis of the comment to by following these steps:\n",
    "\n",
    "Literal analysis: Identify emotions directly expressed through obvious emotional words/phrases.\n",
    "Contextual analysis: Consider the full context and implications to detect any additional underlying emotions.\n",
    "Tonal analysis: Examine tone, subtext, and nuanced emotional cues beyond the literal language.\n",
    "\n",
    "You may only pick one, two or three classes.\n",
    "\n",
    "For each level of analysis, provide your findings.\n",
    "Then, summarize by listing the emotion class(es) that apply in <answer> (classes) </answer>. Use \"neutral\" ONLY if no emotions from the list are detected.\n",
    "\"\"\"\n",
    "\n",
    "\n",
    "final_prompt = ChatPromptTemplate.from_messages(\n",
    "    [\n",
    "        (\"system\", SYSTEM_MESSAGE),\n",
    "        # few_shot_prompt,\n",
    "        (\"human\", PROMPT_TEMPLATE),\n",
    "    ]\n",
    ")"
   ]
  },
  {
   "cell_type": "code",
   "execution_count": 9,
   "metadata": {
    "metadata": {}
   },
   "outputs": [],
   "source": [
    "providers_api_base = {\n",
    "    \"ollama\": \"http://localhost:11434/v1\",\n",
    "    # models in https://fireworks.ai/models\n",
    "    \"fireworks\": \"https://api.fireworks.ai/inference/v1\",\n",
    "    # models in https://console.groq.com/docs/models\n",
    "    \"groq\": \"https://api.groq.com/openai/v1\",\n",
    "    # models in https://platform.openai.com/docs/models\n",
    "    \"openai\": \"https://api.openai.com/v1\",\n",
    "}"
   ]
  },
  {
   "cell_type": "code",
   "execution_count": 13,
   "metadata": {
    "metadata": {}
   },
   "outputs": [],
   "source": [
    "model_name = \"accounts/fireworks/models/llama-v3-70b-instruct\"\n",
    "provider = \"fireworks\"\n",
    "TEMPERATURE = 0.5\n",
    "\n",
    "# Define models\n",
    "chat = ChatOpenAI(\n",
    "    temperature=TEMPERATURE,\n",
    "    model_name=model_name,\n",
    "    openai_api_base=providers_api_base[provider],\n",
    "    openai_api_key=os.environ[provider],\n",
    ")\n",
    "\n",
    "chain = final_prompt | chat"
   ]
  },
  {
   "cell_type": "code",
   "execution_count": 14,
   "metadata": {
    "metadata": {}
   },
   "outputs": [
    {
     "name": "stderr",
     "output_type": "stream",
     "text": [
      "  0%|          | 0/20 [00:00<?, ?it/s]"
     ]
    },
    {
     "name": "stderr",
     "output_type": "stream",
     "text": [
      "100%|██████████| 20/20 [00:27<00:00,  1.38s/it]\n"
     ]
    }
   ],
   "source": [
    "samples[\"predictions\"] = None\n",
    "input_tokens = 0\n",
    "output_tokens = 0\n",
    "# for index in range(len(samples)):\n",
    "for index in tqdm(samples.index):\n",
    "    comment = samples.loc[index][\"text\"]\n",
    "    label = samples.loc[index][\"ds_emotions\"]\n",
    "    response = chain.invoke({\"comment\": comment})\n",
    "    content = response.content\n",
    "    input_tokens += response.response_metadata[\"token_usage\"][\"prompt_tokens\"]\n",
    "    output_tokens += response.response_metadata[\"token_usage\"][\"completion_tokens\"]\n",
    "    extracted_emotions = extract_emotions(content)\n",
    "    samples.at[index, \"predictions\"] = extracted_emotions\n",
    "\n",
    "input_tokens = input_tokens / len(samples)\n",
    "output_tokens = output_tokens / len(samples)"
   ]
  },
  {
   "cell_type": "markdown",
   "metadata": {},
   "source": [
    "# Evaluation"
   ]
  },
  {
   "cell_type": "code",
   "execution_count": 16,
   "metadata": {
    "metadata": {}
   },
   "outputs": [
    {
     "data": {
      "text/html": [
       "<div>\n",
       "<style scoped>\n",
       "    .dataframe tbody tr th:only-of-type {\n",
       "        vertical-align: middle;\n",
       "    }\n",
       "\n",
       "    .dataframe tbody tr th {\n",
       "        vertical-align: top;\n",
       "    }\n",
       "\n",
       "    .dataframe thead th {\n",
       "        text-align: right;\n",
       "    }\n",
       "</style>\n",
       "<table border=\"1\" class=\"dataframe\">\n",
       "  <thead>\n",
       "    <tr style=\"text-align: right;\">\n",
       "      <th></th>\n",
       "      <th>text</th>\n",
       "      <th>ds_emotions</th>\n",
       "      <th>ground_truth</th>\n",
       "      <th>predictions</th>\n",
       "    </tr>\n",
       "  </thead>\n",
       "  <tbody>\n",
       "    <tr>\n",
       "      <th>196267</th>\n",
       "      <td>I can imagine this becoming a thing if Rare/Le...</td>\n",
       "      <td>[neutral]</td>\n",
       "      <td>[optimism, excitement]</td>\n",
       "      <td>[optimism, curiosity, excitement]</td>\n",
       "    </tr>\n",
       "    <tr>\n",
       "      <th>76712</th>\n",
       "      <td>I’m not crying... I’m just cutting onions... I...</td>\n",
       "      <td>[neutral]</td>\n",
       "      <td>[embarrassment]</td>\n",
       "      <td>[amusement, embarrassment, nervousness]</td>\n",
       "    </tr>\n",
       "    <tr>\n",
       "      <th>51186</th>\n",
       "      <td>I appreciate your meme OP.</td>\n",
       "      <td>[neutral]</td>\n",
       "      <td>[approval, admiration]</td>\n",
       "      <td>[gratitude, amusement]</td>\n",
       "    </tr>\n",
       "    <tr>\n",
       "      <th>129083</th>\n",
       "      <td>I have to imagine the camera lens part is utte...</td>\n",
       "      <td>[neutral]</td>\n",
       "      <td>[disapproval, annoyance]</td>\n",
       "      <td>[annoyance, disapproval]</td>\n",
       "    </tr>\n",
       "    <tr>\n",
       "      <th>175779</th>\n",
       "      <td>Scorched Pizza! A true crime!</td>\n",
       "      <td>[neutral]</td>\n",
       "      <td>[annoyance, disgust]</td>\n",
       "      <td>[amusement, disgust]</td>\n",
       "    </tr>\n",
       "    <tr>\n",
       "      <th>18090</th>\n",
       "      <td>We're well past the demoralization phase. You'...</td>\n",
       "      <td>[neutral]</td>\n",
       "      <td>[remorse, sadness]</td>\n",
       "      <td>[sadness, disappointment]</td>\n",
       "    </tr>\n",
       "    <tr>\n",
       "      <th>4843</th>\n",
       "      <td>Spoken like someone who has never faced off wi...</td>\n",
       "      <td>[neutral]</td>\n",
       "      <td>[disapproval]</td>\n",
       "      <td>[amusement, annoyance]</td>\n",
       "    </tr>\n",
       "    <tr>\n",
       "      <th>96204</th>\n",
       "      <td>Yo bud take a breather. It’s just b-ball</td>\n",
       "      <td>[neutral]</td>\n",
       "      <td>[caring]</td>\n",
       "      <td>[caring, relief]</td>\n",
       "    </tr>\n",
       "    <tr>\n",
       "      <th>149013</th>\n",
       "      <td>DmC fans love DMC 5 the fuck this is what i ju...</td>\n",
       "      <td>[neutral]</td>\n",
       "      <td>[disapproval, annoyance]</td>\n",
       "      <td>[Anger, Annoyance, Disapproval]</td>\n",
       "    </tr>\n",
       "    <tr>\n",
       "      <th>180313</th>\n",
       "      <td>That I’d have no way of verifying. Trolls can ...</td>\n",
       "      <td>[neutral]</td>\n",
       "      <td>[disapproval]</td>\n",
       "      <td>[annoyance, disapproval]</td>\n",
       "    </tr>\n",
       "    <tr>\n",
       "      <th>32390</th>\n",
       "      <td>Yes dude, exactly them who didn't call the pi ...</td>\n",
       "      <td>[neutral]</td>\n",
       "      <td>[amusment, confusion]</td>\n",
       "      <td>[disappointment, annoyance]</td>\n",
       "    </tr>\n",
       "    <tr>\n",
       "      <th>76601</th>\n",
       "      <td>Since it’s a commercial truck, the driver prob...</td>\n",
       "      <td>[neutral]</td>\n",
       "      <td>[neutral]</td>\n",
       "      <td>[neutral]</td>\n",
       "    </tr>\n",
       "    <tr>\n",
       "      <th>152655</th>\n",
       "      <td>It took 8 years of healing before I could open...</td>\n",
       "      <td>[neutral]</td>\n",
       "      <td>[caring]</td>\n",
       "      <td>[caring, optimism, relief]</td>\n",
       "    </tr>\n",
       "    <tr>\n",
       "      <th>135942</th>\n",
       "      <td>That’s what I ended up doing lol</td>\n",
       "      <td>[neutral]</td>\n",
       "      <td>[approval]</td>\n",
       "      <td>[amusement]</td>\n",
       "    </tr>\n",
       "    <tr>\n",
       "      <th>64003</th>\n",
       "      <td>So, about that weather.</td>\n",
       "      <td>[neutral]</td>\n",
       "      <td>[neutral]</td>\n",
       "      <td>[curiosity, neutral]</td>\n",
       "    </tr>\n",
       "    <tr>\n",
       "      <th>115295</th>\n",
       "      <td>Big game tonight</td>\n",
       "      <td>[neutral]</td>\n",
       "      <td>[excitement]</td>\n",
       "      <td>[excitement, optimism]</td>\n",
       "    </tr>\n",
       "    <tr>\n",
       "      <th>138539</th>\n",
       "      <td>Don’t get your hopes up for new armour</td>\n",
       "      <td>[neutral]</td>\n",
       "      <td>[realization, disappintment]</td>\n",
       "      <td>[disappointment, disapproval, annoyance]</td>\n",
       "    </tr>\n",
       "    <tr>\n",
       "      <th>157216</th>\n",
       "      <td>Human produce bad carbon dioxide too We should...</td>\n",
       "      <td>[neutral]</td>\n",
       "      <td>[disapproval]</td>\n",
       "      <td>[annoyance, disgust]</td>\n",
       "    </tr>\n",
       "    <tr>\n",
       "      <th>88288</th>\n",
       "      <td>at least you’re getting hit on</td>\n",
       "      <td>[neutral]</td>\n",
       "      <td>[sadness]</td>\n",
       "      <td>[amusement, caring]</td>\n",
       "    </tr>\n",
       "    <tr>\n",
       "      <th>67153</th>\n",
       "      <td>Hes a daywalker!</td>\n",
       "      <td>[neutral]</td>\n",
       "      <td>[neutral]</td>\n",
       "      <td>[amusement, excitement, surprise]</td>\n",
       "    </tr>\n",
       "  </tbody>\n",
       "</table>\n",
       "</div>"
      ],
      "text/plain": [
       "                                                     text ds_emotions  \\\n",
       "196267  I can imagine this becoming a thing if Rare/Le...   [neutral]   \n",
       "76712   I’m not crying... I’m just cutting onions... I...   [neutral]   \n",
       "51186                          I appreciate your meme OP.   [neutral]   \n",
       "129083  I have to imagine the camera lens part is utte...   [neutral]   \n",
       "175779                      Scorched Pizza! A true crime!   [neutral]   \n",
       "18090   We're well past the demoralization phase. You'...   [neutral]   \n",
       "4843    Spoken like someone who has never faced off wi...   [neutral]   \n",
       "96204            Yo bud take a breather. It’s just b-ball   [neutral]   \n",
       "149013  DmC fans love DMC 5 the fuck this is what i ju...   [neutral]   \n",
       "180313  That I’d have no way of verifying. Trolls can ...   [neutral]   \n",
       "32390   Yes dude, exactly them who didn't call the pi ...   [neutral]   \n",
       "76601   Since it’s a commercial truck, the driver prob...   [neutral]   \n",
       "152655  It took 8 years of healing before I could open...   [neutral]   \n",
       "135942                   That’s what I ended up doing lol   [neutral]   \n",
       "64003                             So, about that weather.   [neutral]   \n",
       "115295                                   Big game tonight   [neutral]   \n",
       "138539             Don’t get your hopes up for new armour   [neutral]   \n",
       "157216  Human produce bad carbon dioxide too We should...   [neutral]   \n",
       "88288                      at least you’re getting hit on   [neutral]   \n",
       "67153                                    Hes a daywalker!   [neutral]   \n",
       "\n",
       "                        ground_truth                               predictions  \n",
       "196267        [optimism, excitement]         [optimism, curiosity, excitement]  \n",
       "76712                [embarrassment]   [amusement, embarrassment, nervousness]  \n",
       "51186         [approval, admiration]                    [gratitude, amusement]  \n",
       "129083      [disapproval, annoyance]                  [annoyance, disapproval]  \n",
       "175779          [annoyance, disgust]                      [amusement, disgust]  \n",
       "18090             [remorse, sadness]                 [sadness, disappointment]  \n",
       "4843                   [disapproval]                    [amusement, annoyance]  \n",
       "96204                       [caring]                          [caring, relief]  \n",
       "149013      [disapproval, annoyance]           [Anger, Annoyance, Disapproval]  \n",
       "180313                 [disapproval]                  [annoyance, disapproval]  \n",
       "32390          [amusment, confusion]               [disappointment, annoyance]  \n",
       "76601                      [neutral]                                 [neutral]  \n",
       "152655                      [caring]                [caring, optimism, relief]  \n",
       "135942                    [approval]                               [amusement]  \n",
       "64003                      [neutral]                      [curiosity, neutral]  \n",
       "115295                  [excitement]                    [excitement, optimism]  \n",
       "138539  [realization, disappintment]  [disappointment, disapproval, annoyance]  \n",
       "157216                 [disapproval]                      [annoyance, disgust]  \n",
       "88288                      [sadness]                       [amusement, caring]  \n",
       "67153                      [neutral]         [amusement, excitement, surprise]  "
      ]
     },
     "execution_count": 16,
     "metadata": {},
     "output_type": "execute_result"
    }
   ],
   "source": [
    "samples"
   ]
  },
  {
   "cell_type": "code",
   "execution_count": 15,
   "metadata": {
    "metadata": {}
   },
   "outputs": [
    {
     "name": "stdout",
     "output_type": "stream",
     "text": [
      "3\n",
      "3\n",
      "3\n",
      "3\n",
      "2\n",
      "2\n",
      "2\n",
      "2\n",
      "2\n",
      "2\n",
      "2\n",
      "2\n",
      "2\n",
      "2\n",
      "2\n",
      "2\n",
      "3\n",
      "0\n",
      "2\n",
      "2\n",
      "2\n",
      "2\n",
      "1\n",
      "1\n",
      "3\n",
      "3\n",
      "1\n",
      "1\n",
      "2\n",
      "2\n",
      "2\n",
      "2\n",
      "3\n",
      "3\n",
      "2\n",
      "2\n",
      "2\n",
      "2\n",
      "3\n",
      "3\n"
     ]
    }
   ],
   "source": [
    "predicted_labels = samples[\"predictions\"]\n",
    "\n",
    "kwargs = {\n",
    "    # Default Kwargs\n",
    "    \"provider\": provider,\n",
    "    \"temperature\": TEMPERATURE,\n",
    "    \"avg_input_tokens\": input_tokens,\n",
    "    \"avg_output_tokens\": output_tokens,\n",
    "    # Additional Kwargs\n",
    "    \"ensemble\": 1,\n",
    "}\n",
    "\n",
    "\n",
    "process_save_results(\n",
    "    model_name.split(\"/\")[-1],\n",
    "    SYSTEM_MESSAGE,\n",
    "    PROMPT_TEMPLATE,\n",
    "    predicted_labels,\n",
    "    samples[\"ground_truth\"],\n",
    "    emotions,\n",
    "    **kwargs,\n",
    ")"
   ]
  },
  {
   "cell_type": "code",
   "execution_count": null,
   "metadata": {},
   "outputs": [],
   "source": []
  }
 ],
 "metadata": {
  "kernelspec": {
   "display_name": "main",
   "language": "python",
   "name": "python3"
  },
  "language_info": {
   "codemirror_mode": {
    "name": "ipython",
    "version": 3
   },
   "file_extension": ".py",
   "mimetype": "text/x-python",
   "name": "python",
   "nbconvert_exporter": "python",
   "pygments_lexer": "ipython3",
   "version": "3.11.8"
  }
 },
 "nbformat": 4,
 "nbformat_minor": 2
}
