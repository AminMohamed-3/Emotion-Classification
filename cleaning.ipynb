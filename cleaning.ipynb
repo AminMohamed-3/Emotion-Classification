{
 "cells": [
  {
   "cell_type": "code",
   "execution_count": 1,
   "metadata": {
    "metadata": {}
   },
   "outputs": [],
   "source": [
    "from tqdm import tqdm\n",
    "\n",
    "tqdm.pandas()"
   ]
  },
  {
   "cell_type": "markdown",
   "metadata": {},
   "source": [
    "# Loading Dataset"
   ]
  },
  {
   "cell_type": "code",
   "execution_count": 2,
   "metadata": {
    "metadata": {}
   },
   "outputs": [
    {
     "name": "stderr",
     "output_type": "stream",
     "text": [
      "/home/ossamaak0/miniconda3/envs/main/lib/python3.11/site-packages/tqdm/auto.py:21: TqdmWarning: IProgress not found. Please update jupyter and ipywidgets. See https://ipywidgets.readthedocs.io/en/stable/user_install.html\n",
      "  from .autonotebook import tqdm as notebook_tqdm\n"
     ]
    }
   ],
   "source": [
    "from datasets import load_dataset\n",
    "\n",
    "dataset = load_dataset(\"go_emotions\", \"raw\")\n",
    "dataset.set_format(type=\"pandas\")\n",
    "df_train = dataset[\"train\"][:]"
   ]
  },
  {
   "cell_type": "code",
   "execution_count": 3,
   "metadata": {
    "metadata": {}
   },
   "outputs": [],
   "source": [
    "emotions = list(df_train.columns)[9:]\n",
    "columns = [\"text\"] + emotions\n",
    "# select only texts and emotions\n",
    "df_train = df_train[columns]"
   ]
  },
  {
   "cell_type": "code",
   "execution_count": 4,
   "metadata": {
    "metadata": {}
   },
   "outputs": [
    {
     "name": "stderr",
     "output_type": "stream",
     "text": [
      "  1%|          | 1663/211225 [00:00<00:12, 16625.73it/s]"
     ]
    },
    {
     "name": "stderr",
     "output_type": "stream",
     "text": [
      "100%|██████████| 211225/211225 [00:12<00:00, 16482.69it/s]\n"
     ]
    }
   ],
   "source": [
    "# create new column with list of emotions (in strings)\n",
    "df_train[\"ds_emotions\"] = df_train[emotions].progress_apply(\n",
    "    lambda x: x.index[x == 1].tolist(), axis=1\n",
    ")"
   ]
  },
  {
   "cell_type": "code",
   "execution_count": 5,
   "metadata": {
    "metadata": {}
   },
   "outputs": [
    {
     "name": "stdout",
     "output_type": "stream",
     "text": [
      "['neutral']\n"
     ]
    }
   ],
   "source": [
    "# check if neutral can come with other emotions\n",
    "values = df_train[\"ds_emotions\"].value_counts().keys()\n",
    "for value in values:\n",
    "    if \"neutral\" in value:\n",
    "        print(value)"
   ]
  },
  {
   "cell_type": "code",
   "execution_count": 18,
   "metadata": {
    "metadata": {}
   },
   "outputs": [
    {
     "data": {
      "text/html": [
       "<div>\n",
       "<style scoped>\n",
       "    .dataframe tbody tr th:only-of-type {\n",
       "        vertical-align: middle;\n",
       "    }\n",
       "\n",
       "    .dataframe tbody tr th {\n",
       "        vertical-align: top;\n",
       "    }\n",
       "\n",
       "    .dataframe thead th {\n",
       "        text-align: right;\n",
       "    }\n",
       "</style>\n",
       "<table border=\"1\" class=\"dataframe\">\n",
       "  <thead>\n",
       "    <tr style=\"text-align: right;\">\n",
       "      <th></th>\n",
       "      <th>text</th>\n",
       "      <th>ds_emotions</th>\n",
       "    </tr>\n",
       "  </thead>\n",
       "  <tbody>\n",
       "    <tr>\n",
       "      <th>160394</th>\n",
       "      <td>Oh wow I genuinely thought this was funny can’...</td>\n",
       "      <td>[amusement, realization, surprise]</td>\n",
       "    </tr>\n",
       "    <tr>\n",
       "      <th>33084</th>\n",
       "      <td>Are those potatoes on the bottom right...?</td>\n",
       "      <td>[confusion]</td>\n",
       "    </tr>\n",
       "    <tr>\n",
       "      <th>127168</th>\n",
       "      <td>No. People just realized how dogs make good co...</td>\n",
       "      <td>[realization]</td>\n",
       "    </tr>\n",
       "    <tr>\n",
       "      <th>90564</th>\n",
       "      <td>I love this meme</td>\n",
       "      <td>[admiration, amusement, love]</td>\n",
       "    </tr>\n",
       "    <tr>\n",
       "      <th>12743</th>\n",
       "      <td>Not really. My group of friends are awesome in...</td>\n",
       "      <td>[approval]</td>\n",
       "    </tr>\n",
       "    <tr>\n",
       "      <th>51254</th>\n",
       "      <td>\"You're a good man [NAME].\" Yo [NAME], are you...</td>\n",
       "      <td>[neutral]</td>\n",
       "    </tr>\n",
       "    <tr>\n",
       "      <th>164497</th>\n",
       "      <td>The chicken and bacon one sounds absolutely ba...</td>\n",
       "      <td>[gratitude]</td>\n",
       "    </tr>\n",
       "    <tr>\n",
       "      <th>127480</th>\n",
       "      <td>But thats for [NAME] and our secret getaway pl...</td>\n",
       "      <td>[amusement]</td>\n",
       "    </tr>\n",
       "    <tr>\n",
       "      <th>30742</th>\n",
       "      <td>You're going to seriously regret this in a few...</td>\n",
       "      <td>[remorse]</td>\n",
       "    </tr>\n",
       "    <tr>\n",
       "      <th>129702</th>\n",
       "      <td>Credit? For what? Using an old Soviet tactic t...</td>\n",
       "      <td>[curiosity]</td>\n",
       "    </tr>\n",
       "    <tr>\n",
       "      <th>119964</th>\n",
       "      <td>That's an odd context for \"cockblocked\"</td>\n",
       "      <td>[neutral]</td>\n",
       "    </tr>\n",
       "    <tr>\n",
       "      <th>65997</th>\n",
       "      <td>No that was my cyst that got removed today lol</td>\n",
       "      <td>[amusement]</td>\n",
       "    </tr>\n",
       "    <tr>\n",
       "      <th>196210</th>\n",
       "      <td>#\"\"Haha so relatable omg so me\"\"</td>\n",
       "      <td>[amusement, approval]</td>\n",
       "    </tr>\n",
       "    <tr>\n",
       "      <th>209942</th>\n",
       "      <td>Wow you’re “like 13” in March then bro welcome...</td>\n",
       "      <td>[surprise]</td>\n",
       "    </tr>\n",
       "    <tr>\n",
       "      <th>98802</th>\n",
       "      <td>Guys help I can’t stop playing it, my hands ar...</td>\n",
       "      <td>[disappointment, sadness]</td>\n",
       "    </tr>\n",
       "    <tr>\n",
       "      <th>170947</th>\n",
       "      <td>I’ve got bad news for you about NFL locker roo...</td>\n",
       "      <td>[annoyance]</td>\n",
       "    </tr>\n",
       "    <tr>\n",
       "      <th>94426</th>\n",
       "      <td>I love u too &lt;3</td>\n",
       "      <td>[admiration, gratitude, love]</td>\n",
       "    </tr>\n",
       "    <tr>\n",
       "      <th>200438</th>\n",
       "      <td>Any agreement we will come to will be exploiti...</td>\n",
       "      <td>[approval, curiosity, gratitude, realization]</td>\n",
       "    </tr>\n",
       "    <tr>\n",
       "      <th>99924</th>\n",
       "      <td>Looks like he tore his patellar ligament</td>\n",
       "      <td>[desire]</td>\n",
       "    </tr>\n",
       "    <tr>\n",
       "      <th>169547</th>\n",
       "      <td>I'm so glad I grew up playing a shooter made f...</td>\n",
       "      <td>[gratitude]</td>\n",
       "    </tr>\n",
       "  </tbody>\n",
       "</table>\n",
       "</div>"
      ],
      "text/plain": [
       "                                                     text  \\\n",
       "160394  Oh wow I genuinely thought this was funny can’...   \n",
       "33084          Are those potatoes on the bottom right...?   \n",
       "127168  No. People just realized how dogs make good co...   \n",
       "90564                                    I love this meme   \n",
       "12743   Not really. My group of friends are awesome in...   \n",
       "51254   \"You're a good man [NAME].\" Yo [NAME], are you...   \n",
       "164497  The chicken and bacon one sounds absolutely ba...   \n",
       "127480  But thats for [NAME] and our secret getaway pl...   \n",
       "30742   You're going to seriously regret this in a few...   \n",
       "129702  Credit? For what? Using an old Soviet tactic t...   \n",
       "119964            That's an odd context for \"cockblocked\"   \n",
       "65997      No that was my cyst that got removed today lol   \n",
       "196210                   #\"\"Haha so relatable omg so me\"\"   \n",
       "209942  Wow you’re “like 13” in March then bro welcome...   \n",
       "98802   Guys help I can’t stop playing it, my hands ar...   \n",
       "170947  I’ve got bad news for you about NFL locker roo...   \n",
       "94426                                     I love u too <3   \n",
       "200438  Any agreement we will come to will be exploiti...   \n",
       "99924            Looks like he tore his patellar ligament   \n",
       "169547  I'm so glad I grew up playing a shooter made f...   \n",
       "\n",
       "                                          ds_emotions  \n",
       "160394             [amusement, realization, surprise]  \n",
       "33084                                     [confusion]  \n",
       "127168                                  [realization]  \n",
       "90564                   [admiration, amusement, love]  \n",
       "12743                                      [approval]  \n",
       "51254                                       [neutral]  \n",
       "164497                                    [gratitude]  \n",
       "127480                                    [amusement]  \n",
       "30742                                       [remorse]  \n",
       "129702                                    [curiosity]  \n",
       "119964                                      [neutral]  \n",
       "65997                                     [amusement]  \n",
       "196210                          [amusement, approval]  \n",
       "209942                                     [surprise]  \n",
       "98802                       [disappointment, sadness]  \n",
       "170947                                    [annoyance]  \n",
       "94426                   [admiration, gratitude, love]  \n",
       "200438  [approval, curiosity, gratitude, realization]  \n",
       "99924                                        [desire]  \n",
       "169547                                    [gratitude]  "
      ]
     },
     "execution_count": 18,
     "metadata": {},
     "output_type": "execute_result"
    }
   ],
   "source": [
    "seed = 7102023\n",
    "# get random 20 examples\n",
    "samples = df_train.sample(20, random_state=seed)\n",
    "# drop emotions columns\n",
    "samples = samples.drop(emotions, axis=1)"
   ]
  },
  {
   "cell_type": "code",
   "execution_count": 7,
   "metadata": {
    "metadata": {}
   },
   "outputs": [],
   "source": [
    "gt_emotions = [\n",
    "    [\"neutral\"],\n",
    "    [\"approval\"],\n",
    "    [\"neutral\"],\n",
    "    [\"disgust\"],\n",
    "    [\"disapproval\"],\n",
    "    [\"caring\", \"joy\"],\n",
    "    [\"love\", \"approval\"],\n",
    "    [\"sadness\", \"remorse\"],\n",
    "    [\"disgust\"],\n",
    "    [\"curiosity\"],\n",
    "    [\"amusement\", \"anger\"],\n",
    "    [\"neutral\"],\n",
    "    [\"joy\"],\n",
    "    [\"pride\"],\n",
    "    [\"disapproval\", \"annoyance\"],\n",
    "    [\"anger\"],\n",
    "    [\"annoyance\", \"disapproval\"],\n",
    "    [\"neutral\"],\n",
    "    [\"disapproval\"],\n",
    "    [\"neutral\"],\n",
    "]\n",
    "\n",
    "samples[\"gt_emotions\"] = gt_emotions"
   ]
  },
  {
   "cell_type": "markdown",
   "metadata": {
    "metadata": {}
   },
   "source": [
    "# LLM Labeling"
   ]
  },
  {
   "cell_type": "code",
   "execution_count": 139,
   "metadata": {
    "metadata": {}
   },
   "outputs": [],
   "source": [
    "from langchain_core.messages import HumanMessage, SystemMessage\n",
    "from langchain_core.prompts import ChatPromptTemplate\n",
    "from langchain_openai import ChatOpenAI\n",
    "from langchain_core.output_parsers import StrOutputParser\n",
    "\n",
    "SYSTEM_MESSAGE = \"You're an AI expert trained to analyze and categorize emotions present in text. Your goal is to analyze each piece of text according to instructions\"\n",
    "\n",
    "PROMPT_TEMPLATE = f\"Given this comment {{comment}} , make an analysis of the emotions explicitly and implicitly present in the comment according to this list of emotions ONLY {emotions} and after the analysis write the class/es that apply according to the given list (up to 3 classes) inside <answer> containing the classes\"\n",
    "\n",
    "\n",
    "final_prompt = ChatPromptTemplate.from_messages(\n",
    "    [\n",
    "        (\"system\", SYSTEM_MESSAGE),\n",
    "        # few_shot_prompt,\n",
    "        (\"human\", PROMPT_TEMPLATE),\n",
    "    ]\n",
    ")"
   ]
  },
  {
   "cell_type": "code",
   "execution_count": null,
   "metadata": {},
   "outputs": [],
   "source": [
    "groq_api = \"\"\n",
    "openai_api = \"\""
   ]
  },
  {
   "cell_type": "code",
   "execution_count": 150,
   "metadata": {
    "metadata": {}
   },
   "outputs": [],
   "source": [
    "# Define models\n",
    "chat1 = ChatOpenAI(\n",
    "    temperature=1,\n",
    "    model_name=\"llama3-8b-8192\",\n",
    "    openai_api_base=\"https://api.groq.com/openai/v1\",\n",
    "    openai_api_key=groq_api,\n",
    ")\n",
    "\n",
    "chain1 = final_prompt | chat1 | StrOutputParser()\n",
    "\n",
    "chat2 = ChatOpenAI(api_key=openai_api)\n",
    "\n",
    "chain2 = final_prompt | chat2 | StrOutputParser()"
   ]
  },
  {
   "cell_type": "code",
   "execution_count": 146,
   "metadata": {
    "metadata": {}
   },
   "outputs": [
    {
     "name": "stdout",
     "output_type": "stream",
     "text": [
      "comment: Oh wow I genuinely thought this was funny can’t believe you copped it so hard\n",
      "label: ['amusement', 'realization', 'surprise']\n",
      "********************\n"
     ]
    }
   ],
   "source": [
    "comment = samples.iloc[0][\"text\"]\n",
    "label = samples.iloc[0][\"ds_emotions\"]\n",
    "print(f\"comment: {comment}\")\n",
    "print(f\"label: {label}\")\n",
    "print(\"*\" * 20)\n",
    "response1 = chain1.invoke({\"comment\": comment})\n",
    "response2 = chain1.invoke({\"comment\": comment})\n",
    "response3 = chain1.invoke({\"comment\": comment})\n",
    "response4 = chain1.invoke({\"comment\": comment})\n",
    "response5 = chain1.invoke({\"comment\": comment})"
   ]
  },
  {
   "cell_type": "code",
   "execution_count": 149,
   "metadata": {
    "metadata": {}
   },
   "outputs": [
    {
     "name": "stdout",
     "output_type": "stream",
     "text": [
      "After analyzing the comment, I found the following emotions:\n",
      "\n",
      "* Amusement: The comment starts with \"Oh wow I genuinely thought this was funny\", indicating that the speaker finds something amusing.\n",
      "* Approval: The phrase \"can't believe you copped it so hard\" suggests that the speaker is impressed or approving of someone's actions.\n",
      "* Amusement: The phrase \"copped it so hard\" is likely being used in a humorous way, implying that the speaker finds the situation amusing.\n",
      "\n",
      "According to the list of emotions, the classes that apply are:\n",
      "\n",
      "<answer>\n",
      "['amusement', 'approval']\n",
      "</answer>\n",
      "\n",
      "Note that there is no explicit anger, annoyance, or disapproval in the comment, despite the phrase \"copped it so hard\" potentially being used in a humorous way. The tone of the comment is overall lighthearted and playful.\n"
     ]
    }
   ],
   "source": [
    "print(response3)"
   ]
  },
  {
   "cell_type": "code",
   "execution_count": null,
   "metadata": {},
   "outputs": [],
   "source": [
    "# # Few Shot\n",
    "# from langchain_core.prompts import FewShotChatMessagePromptTemplate\n",
    "\n",
    "# examples = [\n",
    "#     {\"input\": \"2+2\", \"output\": \"4\"},\n",
    "#     {\"input\": \"2+3\", \"output\": \"5\"},\n",
    "# ]\n",
    "\n",
    "# example_prompt = ChatPromptTemplate.from_messages(\n",
    "#     [\n",
    "#         (\"human\", \"{input}\"),\n",
    "#         (\"ai\", \"{output}\"),\n",
    "#     ]\n",
    "# )\n",
    "# few_shot_prompt = FewShotChatMessagePromptTemplate(\n",
    "#     example_prompt=example_prompt,\n",
    "#     examples=examples,\n",
    "# )"
   ]
  },
  {
   "cell_type": "code",
   "execution_count": 28,
   "metadata": {
    "metadata": {}
   },
   "outputs": [],
   "source": [
    "final_prompt = ChatPromptTemplate.from_messages(\n",
    "    [\n",
    "        (\"system\", \"You are a wondrous wizard of math.\"),\n",
    "        # few_shot_prompt,\n",
    "        (\"human\", \"{input}\"),\n",
    "    ]\n",
    ")"
   ]
  }
 ],
 "metadata": {
  "kernelspec": {
   "display_name": "main",
   "language": "python",
   "name": "python3"
  },
  "language_info": {
   "codemirror_mode": {
    "name": "ipython",
    "version": 3
   },
   "file_extension": ".py",
   "mimetype": "text/x-python",
   "name": "python",
   "nbconvert_exporter": "python",
   "pygments_lexer": "ipython3",
   "version": "3.11.8"
  }
 },
 "nbformat": 4,
 "nbformat_minor": 2
}
